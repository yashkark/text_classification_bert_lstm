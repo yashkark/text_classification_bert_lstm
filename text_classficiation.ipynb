{
 "cells": [
  {
   "cell_type": "markdown",
   "id": "8e441bf4",
   "metadata": {},
   "source": [
    "<h1><center>TEXT CLASSIFCATION USING BERT AND LSTM</center></h1>"
   ]
  },
  {
   "cell_type": "code",
   "execution_count": 1,
   "id": "a85fc380",
   "metadata": {},
   "outputs": [],
   "source": [
    "#Import statements\n",
    "import pandas as pd\n",
    "import torch\n",
    "import seaborn as sns\n",
    "from sklearn.model_selection import train_test_split\n",
    "from tqdm import tqdm\n",
    "from transformers import BertTokenizer,BertModel\n",
    "import torch.nn as nn\n",
    "from torch.utils.data import DataLoader,TensorDataset\n",
    "import torch.optim as optim\n",
    "from sklearn.metrics import ConfusionMatrixDisplay,classification_report"
   ]
  },
  {
   "cell_type": "code",
   "execution_count": 2,
   "id": "a9fff366",
   "metadata": {},
   "outputs": [],
   "source": [
    "#Read the data\n",
    "data=pd.read_csv(\"bbc-text.csv\")"
   ]
  },
  {
   "cell_type": "code",
   "execution_count": 3,
   "id": "68991fab",
   "metadata": {},
   "outputs": [
    {
     "data": {
      "text/html": [
       "<div>\n",
       "<style scoped>\n",
       "    .dataframe tbody tr th:only-of-type {\n",
       "        vertical-align: middle;\n",
       "    }\n",
       "\n",
       "    .dataframe tbody tr th {\n",
       "        vertical-align: top;\n",
       "    }\n",
       "\n",
       "    .dataframe thead th {\n",
       "        text-align: right;\n",
       "    }\n",
       "</style>\n",
       "<table border=\"1\" class=\"dataframe\">\n",
       "  <thead>\n",
       "    <tr style=\"text-align: right;\">\n",
       "      <th></th>\n",
       "      <th>category</th>\n",
       "      <th>text</th>\n",
       "    </tr>\n",
       "  </thead>\n",
       "  <tbody>\n",
       "    <tr>\n",
       "      <th>0</th>\n",
       "      <td>tech</td>\n",
       "      <td>tv future in the hands of viewers with home th...</td>\n",
       "    </tr>\n",
       "    <tr>\n",
       "      <th>1</th>\n",
       "      <td>business</td>\n",
       "      <td>worldcom boss  left books alone  former worldc...</td>\n",
       "    </tr>\n",
       "    <tr>\n",
       "      <th>2</th>\n",
       "      <td>sport</td>\n",
       "      <td>tigers wary of farrell  gamble  leicester say ...</td>\n",
       "    </tr>\n",
       "    <tr>\n",
       "      <th>3</th>\n",
       "      <td>sport</td>\n",
       "      <td>yeading face newcastle in fa cup premiership s...</td>\n",
       "    </tr>\n",
       "    <tr>\n",
       "      <th>4</th>\n",
       "      <td>entertainment</td>\n",
       "      <td>ocean s twelve raids box office ocean s twelve...</td>\n",
       "    </tr>\n",
       "  </tbody>\n",
       "</table>\n",
       "</div>"
      ],
      "text/plain": [
       "        category                                               text\n",
       "0           tech  tv future in the hands of viewers with home th...\n",
       "1       business  worldcom boss  left books alone  former worldc...\n",
       "2          sport  tigers wary of farrell  gamble  leicester say ...\n",
       "3          sport  yeading face newcastle in fa cup premiership s...\n",
       "4  entertainment  ocean s twelve raids box office ocean s twelve..."
      ]
     },
     "execution_count": 3,
     "metadata": {},
     "output_type": "execute_result"
    }
   ],
   "source": [
    "data.head()"
   ]
  },
  {
   "cell_type": "code",
   "execution_count": 4,
   "id": "947fa0d2",
   "metadata": {},
   "outputs": [
    {
     "data": {
      "text/plain": [
       "sport            511\n",
       "business         510\n",
       "politics         417\n",
       "tech             401\n",
       "entertainment    386\n",
       "Name: category, dtype: int64"
      ]
     },
     "execution_count": 4,
     "metadata": {},
     "output_type": "execute_result"
    }
   ],
   "source": [
    "data[\"category\"].value_counts()"
   ]
  },
  {
   "cell_type": "markdown",
   "id": "37753bec",
   "metadata": {},
   "source": [
    "<h2> Distribution of the data </h2>"
   ]
  },
  {
   "cell_type": "code",
   "execution_count": 5,
   "id": "fce98c89",
   "metadata": {},
   "outputs": [
    {
     "data": {
      "text/plain": [
       "<AxesSubplot: xlabel='category', ylabel='Count'>"
      ]
     },
     "execution_count": 5,
     "metadata": {},
     "output_type": "execute_result"
    },
    {
     "data": {
      "image/png": "[encoded data removed]",
      "text/plain": [
       "<Figure size 640x480 with 1 Axes>"
      ]
     },
     "metadata": {},
     "output_type": "display_data"
    }
   ],
   "source": [
    "sns.histplot(data[\"category\"])"
   ]
  },
  {
   "cell_type": "markdown",
   "id": "9403c592",
   "metadata": {},
   "source": [
    "<h2> Example of text </h2>"
   ]
  },
  {
   "cell_type": "code",
   "execution_count": 6,
   "id": "49f49707",
   "metadata": {},
   "outputs": [
    {
     "data": {
      "text/plain": [
       "'tv future in the hands of viewers with home theatre systems  plasma high-definition tvs  and digital video recorders moving into the living room  the way people watch tv will be radically different in five years  time.  that is according to an expert panel which gathered at the annual consumer electronics show in las vegas to discuss how these new technologies will impact one of our favourite pastimes. with the us leading the trend  programmes and other content will be delivered to viewers via home networks  through cable  satellite  telecoms companies  and broadband service providers to front rooms and portable devices.  one of the most talked-about technologies of ces has been digital and personal video recorders (dvr and pvr). these set-top boxes  like the us s tivo and the uk s sky+ system  allow people to record  store  play  pause and forward wind tv programmes when they want.  essentially  the technology allows for much more personalised tv. they are also being built-in to high-definition tv sets  which are big business in japan and the us  but slower to take off in europe because of the lack of high-definition programming. not only can people forward wind through adverts  they can also forget about abiding by network and channel schedules  putting together their own a-la-carte entertainment. but some us networks and cable and satellite companies are worried about what it means for them in terms of advertising revenues as well as  brand identity  and viewer loyalty to channels. although the us leads in this technology at the moment  it is also a concern that is being raised in europe  particularly with the growing uptake of services like sky+.  what happens here today  we will see in nine months to a years  time in the uk   adam hume  the bbc broadcast s futurologist told the bbc news website. for the likes of the bbc  there are no issues of lost advertising revenue yet. it is a more pressing issue at the moment for commercial uk broadcasters  but brand loyalty is important for everyone.  we will be talking more about content brands rather than network brands   said tim hanlon  from brand communications firm starcom mediavest.  the reality is that with broadband connections  anybody can be the producer of content.  he added:  the challenge now is that it is hard to promote a programme with so much choice.   what this means  said stacey jolna  senior vice president of tv guide tv group  is that the way people find the content they want to watch has to be simplified for tv viewers. it means that networks  in us terms  or channels could take a leaf out of google s book and be the search engine of the future  instead of the scheduler to help people find what they want to watch. this kind of channel model might work for the younger ipod generation which is used to taking control of their gadgets and what they play on them. but it might not suit everyone  the panel recognised. older generations are more comfortable with familiar schedules and channel brands because they know what they are getting. they perhaps do not want so much of the choice put into their hands  mr hanlon suggested.  on the other end  you have the kids just out of diapers who are pushing buttons already - everything is possible and available to them   said mr hanlon.  ultimately  the consumer will tell the market they want.   of the 50 000 new gadgets and technologies being showcased at ces  many of them are about enhancing the tv-watching experience. high-definition tv sets are everywhere and many new models of lcd (liquid crystal display) tvs have been launched with dvr capability built into them  instead of being external boxes. one such example launched at the show is humax s 26-inch lcd tv with an 80-hour tivo dvr and dvd recorder. one of the us s biggest satellite tv companies  directtv  has even launched its own branded dvr at the show with 100-hours of recording capability  instant replay  and a search function. the set can pause and rewind tv for up to 90 hours. and microsoft chief bill gates announced in his pre-show keynote speech a partnership with tivo  called tivotogo  which means people can play recorded programmes on windows pcs and mobile devices. all these reflect the increasing trend of freeing up multimedia so that people can watch what they want  when they want.'"
      ]
     },
     "execution_count": 6,
     "metadata": {},
     "output_type": "execute_result"
    }
   ],
   "source": [
    "data[\"text\"][0]"
   ]
  },
  {
   "cell_type": "markdown",
   "id": "a1cd3c85",
   "metadata": {},
   "source": [
    "<h2> Format the data </h2>"
   ]
  },
  {
   "cell_type": "markdown",
   "id": "78c2e0fb",
   "metadata": {},
   "source": [
    "<h3> Encode the labels </h3>"
   ]
  },
  {
   "cell_type": "code",
   "execution_count": 7,
   "id": "86ce8005",
   "metadata": {},
   "outputs": [],
   "source": [
    "#Encode the labels\n",
    "encode_dict= {\n",
    "            \"sport\":0,\n",
    "            \"business\":1,\n",
    "            \"politics\":2,\n",
    "            \"tech\":3,\n",
    "            \"entertainment\":3\n",
    "           }"
   ]
  },
  {
   "cell_type": "code",
   "execution_count": 8,
   "id": "d171208f",
   "metadata": {},
   "outputs": [],
   "source": [
    "X_data=data[\"text\"]\n",
    "Y_data=data[\"category\"].map(encode_dict)"
   ]
  },
  {
   "cell_type": "code",
   "execution_count": 9,
   "id": "c2440299",
   "metadata": {},
   "outputs": [
    {
     "data": {
      "text/plain": [
       "0    tv future in the hands of viewers with home th...\n",
       "1    worldcom boss  left books alone  former worldc...\n",
       "2    tigers wary of farrell  gamble  leicester say ...\n",
       "3    yeading face newcastle in fa cup premiership s...\n",
       "4    ocean s twelve raids box office ocean s twelve...\n",
       "Name: text, dtype: object"
      ]
     },
     "execution_count": 9,
     "metadata": {},
     "output_type": "execute_result"
    }
   ],
   "source": [
    "X_data.head()"
   ]
  },
  {
   "cell_type": "code",
   "execution_count": 10,
   "id": "591279df",
   "metadata": {},
   "outputs": [
    {
     "data": {
      "text/plain": [
       "0    3\n",
       "1    1\n",
       "2    0\n",
       "3    0\n",
       "4    3\n",
       "Name: category, dtype: int64"
      ]
     },
     "execution_count": 10,
     "metadata": {},
     "output_type": "execute_result"
    }
   ],
   "source": [
    "Y_data.head()"
   ]
  },
  {
   "cell_type": "markdown",
   "id": "ef404492",
   "metadata": {},
   "source": [
    "<h3> Split data into train and test </h3>"
   ]
  },
  {
   "cell_type": "code",
   "execution_count": 11,
   "id": "ebc81cfc",
   "metadata": {},
   "outputs": [],
   "source": [
    "X_train, X_test,Y_train, Y_test = \\\n",
    "train_test_split(X_data,Y_data,test_size=0.2)"
   ]
  },
  {
   "cell_type": "markdown",
   "id": "8ffb7579",
   "metadata": {},
   "source": [
    "<h3> Further split train data into train and validation data </h3>"
   ]
  },
  {
   "cell_type": "code",
   "execution_count": 12,
   "id": "548f5ebb",
   "metadata": {},
   "outputs": [],
   "source": [
    "X_train, X_val,Y_train, Y_val = \\\n",
    "train_test_split(X_train,Y_train,test_size=0.2)"
   ]
  },
  {
   "cell_type": "markdown",
   "id": "29d5c31e",
   "metadata": {},
   "source": [
    "<h3> Data counts in each set </h3>"
   ]
  },
  {
   "cell_type": "code",
   "execution_count": 13,
   "id": "afb60aec",
   "metadata": {},
   "outputs": [
    {
     "name": "stdout",
     "output_type": "stream",
     "text": [
      "TRAINING DATA 1424\n",
      "VALIDATION DATA 356\n",
      "TEST DATA 445\n"
     ]
    }
   ],
   "source": [
    "print(\"TRAINING DATA\",len(X_train))\n",
    "print(\"VALIDATION DATA\",len(X_val))\n",
    "print(\"TEST DATA\",len(X_test))"
   ]
  },
  {
   "cell_type": "markdown",
   "id": "a0cb9c16",
   "metadata": {},
   "source": [
    "<h2> GET BERT EMBEDDINGS OF THE DATA </h2>\n",
    "<h3> Use the hugging face transformer package to the BERT pretrained embeddings </h3>"
   ]
  },
  {
   "cell_type": "code",
   "execution_count": null,
   "id": "e18aeb75",
   "metadata": {},
   "outputs": [],
   "source": [
    "MAX_SEQ_LEN_BERT=512 #max length for bert"
   ]
  },
  {
   "cell_type": "code",
   "execution_count": null,
   "id": "bd4d2443",
   "metadata": {},
   "outputs": [],
   "source": [
    "def get_bert_embedding(text_list):\n",
    "    bert_tokenizer = BertTokenizer.from_pretrained('bert-base-uncased',model_max_length=MAX_SEQ_LEN_BERT)\n",
    "    bert_model = BertModel.from_pretrained('bert-base-uncased',\n",
    "                                      output_hidden_states = True,\n",
    "                                      )\n",
    "    bert_model.eval()\n",
    "    vec_list=[]\n",
    "    for text in tqdm(text_list):\n",
    "        with torch.no_grad():\n",
    "            encoded_text = bert_tokenizer(text, return_tensors=\"pt\",return_attention_mask=True,\\\n",
    "                                       return_token_type_ids=True,padding='max_length',truncation_strategy=\"longest_first\")\n",
    "            bert_embeding = bert_model(**encoded_text)\n",
    "            vec_list.append(bert_embeding[\"last_hidden_state\"])\n",
    "    return torch.concat(vec_list, dim=0)"
   ]
  },
  {
   "cell_type": "code",
   "execution_count": null,
   "id": "58d56a0d",
   "metadata": {},
   "outputs": [],
   "source": [
    "#Get vectors of train data\n",
    "X_train_vec=get_bert_embedding(X_train)"
   ]
  },
  {
   "cell_type": "code",
   "execution_count": null,
   "id": "cb000dad",
   "metadata": {},
   "outputs": [],
   "source": [
    "#Get vectors of train data\n",
    "X_test_vec=get_bert_embedding(X_test)\n",
    "X_test_vec.shape"
   ]
  },
  {
   "cell_type": "code",
   "execution_count": null,
   "id": "2e8ea227",
   "metadata": {},
   "outputs": [],
   "source": [
    "#Get vectors of validation data\n",
    "X_val_vec=get_bert_embedding(X_val)\n",
    "X_val_vec.shape"
   ]
  },
  {
   "cell_type": "markdown",
   "id": "4d70b0b0",
   "metadata": {},
   "source": [
    "<h2> BUILD THE PYTORCH MODEL </h2>\n"
   ]
  },
  {
   "cell_type": "code",
   "execution_count": null,
   "id": "131d0cc0",
   "metadata": {},
   "outputs": [],
   "source": [
    "EMBEDDING_DIM=768"
   ]
  },
  {
   "cell_type": "code",
   "execution_count": null,
   "id": "c8e5c998",
   "metadata": {},
   "outputs": [],
   "source": [
    "class LSTMClassifier(nn.Module):\n",
    "    def __init__(self):\n",
    "        super(LSTMClassifier, self).__init__()\n",
    "        self.lstm = nn.LSTM(input_size=EMBEDDING_DIM, hidden_size=64, num_layers=1, batch_first=True)\n",
    "        self.fc1 = nn.Linear(64,32,bias=True)\n",
    "        self.d1 = nn.Dropout(p=0.2)\n",
    "        self.fc2=nn.Linear(32,5,bias=True)\n",
    "        \n",
    "    def forward(self,inp):\n",
    "        output,(hidden, cell) = self.lstm(inp)\n",
    "        output=torch.squeeze(hidden)\n",
    "        output=self.fc1(output)\n",
    "        output=nn.functional.relu(output)\n",
    "        output=self.d1(output)\n",
    "        output=self.fc2(output)\n",
    "        output=nn.functional.softmax(output)\n",
    "        return output"
   ]
  },
  {
   "cell_type": "code",
   "execution_count": null,
   "id": "877b08f8",
   "metadata": {},
   "outputs": [],
   "source": [
    "lstm_classifier = LSTMClassifier()\n",
    "lstm_classifier"
   ]
  },
  {
   "cell_type": "markdown",
   "id": "b16fbe83",
   "metadata": {},
   "source": [
    "<h2> Create the data loader of given batch size </h2>"
   ]
  },
  {
   "cell_type": "code",
   "execution_count": null,
   "id": "db86a595",
   "metadata": {},
   "outputs": [],
   "source": [
    "BATCH_SIZE=16\n",
    "dl = DataLoader(TensorDataset(X_train_vec,torch.tensor(Y_train.values)), batch_size=BATCH_SIZE)\n",
    "LEN_DL = len(dl) #number of batches\n",
    "EPOCHS=25"
   ]
  },
  {
   "cell_type": "code",
   "execution_count": null,
   "id": "0d010a74",
   "metadata": {},
   "outputs": [],
   "source": [
    "#Set device here\n",
    "device=\"cpu\""
   ]
  },
  {
   "cell_type": "markdown",
   "id": "64cb332a",
   "metadata": {},
   "source": [
    "<h2> Create optimizier and loss function and set it to the appropiate device </h2>"
   ]
  },
  {
   "cell_type": "code",
   "execution_count": null,
   "id": "6f8e756b",
   "metadata": {},
   "outputs": [],
   "source": [
    "lstm_classifier = lstm_classifier.to(device)\n",
    "optimizer = optim.Adam(lstm_classifier.parameters(),lr=1e-4)\n",
    "criterion = nn.CrossEntropyLoss()\n",
    "criterion = criterion.to(device)"
   ]
  },
  {
   "cell_type": "code",
   "execution_count": null,
   "id": "e8ea5092",
   "metadata": {},
   "outputs": [],
   "source": [
    "\n",
    "for epoch in range(0,EPOCHS):\n",
    "    epoch_loss=0\n",
    "    epoch_accuracy=0\n",
    "    print(\"EPOCH\",epoch+1)\n",
    "    for batch, (x,y) in enumerate(dl):\n",
    "        x=x.to(device)\n",
    "        out=lstm_classifier(x)\n",
    "        y=y.to(device)\n",
    "        optimizer.zero_grad()\n",
    "        loss = criterion(out, y)\n",
    "        acc=sum(out.detach().cpu().numpy().argmax(axis=1)==y.numpy())/BATCH_SIZE\n",
    "        loss.backward()      \n",
    "        optimizer.step()\n",
    "        epoch_loss=epoch_loss+loss\n",
    "        epoch_accuracy=epoch_accuracy+acc\n",
    "        #endsep = \"\\n\" if batch == LEN_DL -1 else \"\\r\"\n",
    "        endsep=\"\\r\"\n",
    "        print (f\"Batch :: {batch+1}/{LEN_DL} : Accuracy :: {acc} : loss :: {loss.detach().item()}\", end=endsep, flush=True)\n",
    "    print(\"Accuracy: \",epoch_accuracy/LEN_DL,\" loss: \",epoch_loss.item()/LEN_DL)\n",
    "    with torch.no_grad():   \n",
    "        val_out=lstm_classifier(X_val_vec)\n",
    "        val_acc=sum(val_out.detach().cpu().numpy().argmax(axis=1)==Y_val.values)/len(Y_val)\n",
    "        print(\"Validation Accuracy\",val_acc)\n",
    "        "
   ]
  },
  {
   "cell_type": "markdown",
   "id": "acb67f4e",
   "metadata": {},
   "source": [
    "<h2> TEST DATA EVALUATION <h2>"
   ]
  },
  {
   "cell_type": "code",
   "execution_count": null,
   "id": "fa7843a0",
   "metadata": {},
   "outputs": [],
   "source": [
    "y_pred=lstm_classifier(X_test_vec).detach().numpy().argmax(axis=1)"
   ]
  },
  {
   "cell_type": "code",
   "execution_count": null,
   "id": "39eb41ed",
   "metadata": {},
   "outputs": [],
   "source": [
    "print(classification_report(Y_test,y_pred))"
   ]
  },
  {
   "cell_type": "code",
   "execution_count": null,
   "id": "9aa75c22",
   "metadata": {},
   "outputs": [],
   "source": [
    "ConfusionMatrixDisplay.from_predictions(Y_test,y_pred)"
   ]
  },
  {
   "cell_type": "markdown",
   "id": "cf96f938",
   "metadata": {},
   "source": [
    "<h2> TRY it OUT </h2>\n"
   ]
  },
  {
   "cell_type": "code",
   "execution_count": null,
   "id": "c9103a38",
   "metadata": {},
   "outputs": [],
   "source": [
    "text=\"\"\"\n",
    "I believe in intensity, especially as it relates to sports. Without it, we can easily go through the motions—never really giving our full effort or going beyond what we think we can give. It has been said that a person will never be great without intensity, but I wouldn’t say that is always true. I have personally played with and seen many competitors who have gotten by with strictly using their God-given talents.\n",
    "\n",
    "\"\"\""
   ]
  },
  {
   "cell_type": "code",
   "execution_count": null,
   "id": "00bc0ae9",
   "metadata": {},
   "outputs": [],
   "source": [
    "text_vec=get_bert_embedding([text])\n",
    "text_pred=lstm_classifier(text_vec).detach().numpy().argmax(axis=0)\n",
    "if text_pred==0:\n",
    "    print(\"sport\")\n",
    "elif text_pred==1:\n",
    "    print(\"business\")\n",
    "elif text_pred==2:\n",
    "    print(\"politics\")\n",
    "elif text_pred==3:\n",
    "    print(\"tech\")\n",
    "elif text_pred==4:\n",
    "    print(\"entertainment\")"
   ]
  },
  {
   "cell_type": "code",
   "execution_count": null,
   "id": "1fa20a33",
   "metadata": {},
   "outputs": [],
   "source": []
  }
 ],
 "metadata": {
  "kernelspec": {
   "display_name": "Python 3 (ipykernel)",
   "language": "python",
   "name": "python3"
  },
  "language_info": {
   "codemirror_mode": {
    "name": "ipython",
    "version": 3
   },
   "file_extension": ".py",
   "mimetype": "text/x-python",
   "name": "python",
   "nbconvert_exporter": "python",
   "pygments_lexer": "ipython3",
   "version": "3.9.6"
  }
 },
 "nbformat": 4,
 "nbformat_minor": 5
}
